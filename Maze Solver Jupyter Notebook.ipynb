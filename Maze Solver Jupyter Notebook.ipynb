{
  "nbformat": 4,
  "nbformat_minor": 0,
  "metadata": {
    "colab": {
      "name": "Maze Solver",
      "provenance": [],
      "collapsed_sections": [
        "MouIxhf-cpQR",
        "GTZt8SXbd6M_",
        "vHUHMBbPfAnr",
        "f95grFXfkePk",
        "0q757l-klfNN"
      ]
    },
    "kernelspec": {
      "name": "python3",
      "display_name": "Python 3"
    }
  },
  "cells": [
    {
      "cell_type": "markdown",
      "metadata": {
        "id": "zouJUpuWtExY",
        "colab_type": "text"
      },
      "source": [
        "![Snails Pace](https://drive.google.com/uc?export=view&id=1_noIdfFYqhjW66fV45qkHS3qFStL2Dkm)\n",
        "\n",
        "\n",
        "\n"
      ]
    },
    {
      "cell_type": "markdown",
      "metadata": {
        "id": "MouIxhf-cpQR",
        "colab_type": "text"
      },
      "source": [
        "# **Maze Solver** - Introduction \n",
        "\n",
        "This program is designed to find a solution pathway through almost any maze. \n",
        "\n",
        "(See next sections for details.)\n",
        "\n"
      ]
    },
    {
      "cell_type": "markdown",
      "metadata": {
        "id": "21UayS2Auybl",
        "colab_type": "text"
      },
      "source": [
        "##**Examples**"
      ]
    },
    {
      "cell_type": "markdown",
      "metadata": {
        "id": "qIL6gBWjvuxx",
        "colab_type": "text"
      },
      "source": [
        "![Circle Maze](https://drive.google.com/uc?export=view&id=1K6Q8nE_hb_C-h6WkTCMhtCXgPQ_r5Bkl)"
      ]
    },
    {
      "cell_type": "markdown",
      "metadata": {
        "id": "u6aI_1wQu4g0",
        "colab_type": "text"
      },
      "source": [
        "![Vortex Maze 1](https://drive.google.com/uc?export=view&id=11p4KRMU_U37U-FrvcfEg4ZskdPJSxQDZ)"
      ]
    },
    {
      "cell_type": "markdown",
      "metadata": {
        "id": "s8H8u2pqvekT",
        "colab_type": "text"
      },
      "source": [
        "![Vortex Maze 2](https://drive.google.com/uc?export=view&id=1J8rqgrdgTU0ienB0NxtY2PKj8jgPwQeG)"
      ]
    },
    {
      "cell_type": "markdown",
      "metadata": {
        "id": "cyZE_umRv73f",
        "colab_type": "text"
      },
      "source": [
        "![Cube Maze](https://drive.google.com/uc?export=view&id=1rtxhZc7rzoY3eW9PcRtGhcrGqfBUTf4C)"
      ]
    },
    {
      "cell_type": "markdown",
      "metadata": {
        "id": "3eUcbVwIwWQh",
        "colab_type": "text"
      },
      "source": [
        "![Polyhedron Maze](https://drive.google.com/uc?export=view&id=1jathQR5cqlQhqN3h9LkzTs-P6bFOQX3-)"
      ]
    },
    {
      "cell_type": "markdown",
      "metadata": {
        "id": "Bf29eI5DwtT0",
        "colab_type": "text"
      },
      "source": [
        "![Sphinx Maze](https://drive.google.com/uc?export=view&id=1rYD92WAXdO1DSFDxOfAJFiUCXSU2vkW6)"
      ]
    },
    {
      "cell_type": "markdown",
      "metadata": {
        "id": "tn18D0ebw43l",
        "colab_type": "text"
      },
      "source": [
        "![Building](https://drive.google.com/uc?export=view&id=1NcNK5qXdN6nPatk7xE5E5RjCpD5ptmWV)"
      ]
    },
    {
      "cell_type": "markdown",
      "metadata": {
        "id": "GTZt8SXbd6M_",
        "colab_type": "text"
      },
      "source": [
        "## **Authorship** and Contributions\n"
      ]
    },
    {
      "cell_type": "markdown",
      "metadata": {
        "id": "TC71nwlceXiI",
        "colab_type": "text"
      },
      "source": [
        "**Program Author:**\n",
        "\n",
        "David De Sa\n",
        "\n",
        "https://www.linkedin.com/in/daviddesa03/\n",
        "\n",
        "daviddesa03@gmail.com\n",
        "\n",
        "**Date:**\n",
        "\n",
        "Aug 27 2020"
      ]
    },
    {
      "cell_type": "markdown",
      "metadata": {
        "id": "hTn-Fp8dbEwe",
        "colab_type": "text"
      },
      "source": [
        "**Special Thanks:**\n",
        "\n",
        "This project would not have been nearly as satisfying if I did not have beautiful and compelling mazes to test the program on, name those created through the work of Craig S. Kaplan. More information can be found at \n",
        "http://www.cgl.uwaterloo.ca/csk/projects/mazes/\n",
        "\n",
        "Thanks to my friends for consoling me and encouraging me when the going got tougher."
      ]
    },
    {
      "cell_type": "markdown",
      "metadata": {
        "id": "vHUHMBbPfAnr",
        "colab_type": "text"
      },
      "source": [
        "\n",
        "## **Usage Details**\n",
        "\n",
        "Quick Usage:\n",
        "\n",
        "1.   Upload a **PNG** image to the file system at left.\n",
        "2.   In the parameter customization code block, specify the file name\n",
        "3.   Change any customization parameters\n",
        "4.   Run code blocks\n",
        "5.   Retrieve output files (Solution images and gifs)\n",
        "\n",
        "For constraint details, see the hidden cell:\n"
      ]
    },
    {
      "cell_type": "markdown",
      "metadata": {
        "id": "t3og-qQWfLZw",
        "colab_type": "text"
      },
      "source": [
        "### **Inputs and Outputs**\n",
        "\n",
        "Inputs and outputs can be uploaded and downloaded using the file storage pane on the left.\n",
        "\n",
        "\n",
        "---\n",
        "\n",
        "\n",
        "### Inputs\n",
        "This program takes in a **PNG image** of a maze. \n",
        "\n",
        "Constraints:  \n",
        "\n",
        "*   The image should be black and white, *but for* the start and end marker.\n",
        "> Or near black and white. Transparent watermarks are passable up to a darkness threshold.\n",
        "\n",
        "*   The start should be marked with red, the end with green\n",
        "> This can be done with any simple image editor,  such as MS Paint.\n",
        ">> If the marker is not found, try using a red or green that has a high value only in the respective RGB channel.\n",
        "\n",
        "*    The smallest distance between maze boundaries (i.e. the narrowest path) should not be less than ~5 pixels.\n",
        ">The circumstances under which exploration fails is relative to each image.\n",
        "\n",
        "A variety of customization parameters can also be specified in the code cell below, as per the relevant instruction.\n",
        "\n",
        "\n",
        "---\n",
        "\n",
        "\n",
        "### Outputs\n",
        "After running, the program output includes:\n",
        "\n",
        "*   An image of the exploration path with solution highlighted\n",
        "*   A gif of the exploration path formation with solution highlighted\n",
        "*   A gif of the solution path formation\n",
        "\n",
        "Certain characteristics of these outputs can be determined by the customization parameters\n",
        "\n"
      ]
    },
    {
      "cell_type": "markdown",
      "metadata": {
        "id": "V2GcYWwakJL9",
        "colab_type": "text"
      },
      "source": [
        "##  **Mission and Methodology**"
      ]
    },
    {
      "cell_type": "markdown",
      "metadata": {
        "id": "f95grFXfkePk",
        "colab_type": "text"
      },
      "source": [
        "### Mission\n",
        "The goal of this program was to be able to solve any maze, provided only the image of the maze. \n",
        "\n"
      ]
    },
    {
      "cell_type": "markdown",
      "metadata": {
        "id": "TlZHmSvtn-ZN",
        "colab_type": "text"
      },
      "source": [
        "The notable challenges of this mission statement are that using only an image as the primary input prrecludes the possibility of being given the maze in a graph or grid type of structured format. Such a format would make the task trivial, as graph search is a well trodden field of computer science. Furthermore, the mission statement includes the possibility of solving irregularly shaped mazes, including those with curved pathways, and pathways of varying widths. This demands changes in the strategy that might most simply and effectively be used for a rectilinear and squared grid-type maze."
      ]
    },
    {
      "cell_type": "markdown",
      "metadata": {
        "id": "0q757l-klfNN",
        "colab_type": "text"
      },
      "source": [
        "### Methodology\n",
        "\n",
        "One step at a time."
      ]
    },
    {
      "cell_type": "markdown",
      "metadata": {
        "id": "8VeQyh0-oKn7",
        "colab_type": "text"
      },
      "source": [
        "When solving a maze, most would use a pencil and paper and mark a line through the pathway being explored. Given the context of a pixellated image as the search space, the intricacies of marking a line and the processes by which backtracking would be prevented would be inefficient. Furthermore, high resolution images are too large to make a complete pixel-wise search reasonable.\n",
        "\n",
        "The solution is to think of a breadcrumb-type pathway instead of a continuously marked path. Beginning from the start point, the various directions (first cardinal directions, then angular directions) are checked for feasibility of taking a step. If it is possible to take a step without hitting a boundary, that potential step is added to the register of next steps. The step which minimizes distance to the objective is then selected. This process proceeds repeatedly until the end is reached.\n",
        "\n",
        "This strategy demands an appropriate step size be known or determined. This is done by exploring the image along the rows and columns of pixels, and tracking the width of the traversible areas that are seen. The most commonly observed path width provides the basis for the default step size, though for highly irregular mazes, a step size that is too large to facilitate travel through narrow paths may be selected. In this case, a smaller step size should be manually set using the customization parameters."
      ]
    },
    {
      "cell_type": "markdown",
      "metadata": {
        "id": "14zZg2YGjUb4",
        "colab_type": "text"
      },
      "source": [
        "# **Maze Solver** - Code\n",
        "\n",
        "The following cells contain the code for execution of the program."
      ]
    },
    {
      "cell_type": "markdown",
      "metadata": {
        "id": "xy0iM_E8jr-o",
        "colab_type": "text"
      },
      "source": [
        "## Customization Parameters\n",
        "\n"
      ]
    },
    {
      "cell_type": "markdown",
      "metadata": {
        "id": "QSKCCjSHILYl",
        "colab_type": "text"
      },
      "source": [
        "In these cells, variables can be set which are classified as: \n",
        "\n",
        "*   *Functional*\n",
        "> Directly affecting the solution search strategy\n",
        "\n",
        "\n",
        "*   *Aesthetic*\n",
        "> Affecting the visual outputs of the program\n",
        "\n",
        "*   *Utility*\n",
        "> Providing information and feedback about the program as it runs"
      ]
    },
    {
      "cell_type": "markdown",
      "metadata": {
        "id": "0jOAFC6ao5Ie",
        "colab_type": "text"
      },
      "source": [
        "### Functional Parameters"
      ]
    },
    {
      "cell_type": "code",
      "metadata": {
        "id": "n77Mk4qvodet",
        "colab_type": "code",
        "colab": {}
      },
      "source": [
        "# Upload the file you want to use; then enter its name inside the single quotes here:\n",
        "filename = r'swirls.png'\n",
        "# Files can be uploaded by dragging them from your file viewer onto the file pane at the left\n",
        "\n",
        "#In preprocessing, grayscale pixels are shifted to binary black or white. Curves are often composed of varying grayscale pixels \n",
        "#The colour threshold parameter indicates the upper limit of grayscale luminance that will be shifted down to black\n",
        "colourthreshold = 0.5\n",
        "#The curvier the maze, and the wider the boundaries, the recommened value is lower\n",
        "#Must be between 0 and 1\n",
        "\n",
        "#For the purpose of determining how big an exploration step should be, given the space between boundaries, the image is\n",
        "#segmented into different tiles or 'zones'. This variable determines the length of a side of a square zone.\n",
        "zonesize=40\n",
        "#The greater the variation in the width of the maze pathway across the maze, the smaller the zones should be\n",
        "#Recommended value: Depends on image size (should be large enough to encapsulate multiple pathways)\n",
        "\n",
        "#In searching out the appropriate step size, the distances between maze bounds are measured.\n",
        "#This variable provides the minimum size to be considered, which allows for ignoring trivial corner cases which might be detrimental\n",
        "#to a determination of the proper value. Ensure this value is not larger than the smallest pathway in the maze.\n",
        "smallestgap=3\n",
        "#Recommended value: 3\n",
        "\n",
        "#Exploration is made by taking searching cardinal directions first, with angular steps being taken if cardinal directions fail\n",
        "#The dg variable provides the step size, with respect to degrees, of the direction search through 360 degrees\n",
        "#For a highly irregular maze with curved pathways or pathways at narrow angles to cardinal directions, a smaller value\n",
        "#will likely be necessary to successfully explore those pathways\n",
        "dg=10\n",
        "#Recommended value: 30 for grid type maze, or very small numbers for a highly irregular maze\n",
        "\n",
        "#Steps are scaled down compared to the observed distance between boundaries, to facilitate exploring all pathways\n",
        "#The ratio of step size to observed distance between bounds is the step proportion steppropn\n",
        "steppropn=0.75\n",
        "#Recommended value: 0.75\n",
        "\n",
        "#The observed gap size between maze bounds is the starting point for step size. If an attempted step hits a boundary,\n",
        "#incrementally smaller steps in the same direction are attempted that are of a fractional size. The stepblocks variable\n",
        "#is the limit for tht incremental division. Larger values correlate to more exploration potential with associated increase in processing time\n",
        "stepblocks=6\n",
        "#Recommended value: 3\n",
        "\n",
        "#When a potential step is being registered, it is removed from consideration if it backtracks.\n",
        "#I.e. it it checked for proximity to a previously made stamp\n",
        "#The cut off is determined using proxcutoff as a factor of the default step size for a given zone\n",
        "proxcutoff=0.3\n",
        "#NOTE: This value should be less than steppropn\n",
        "#Smaller values may increase search time, but improve search quality or reduce likelihood of missing a small branch\n",
        "\n",
        "#For highly irregular mazes, the recommender system for step size may select a step size which is too large to\n",
        "#explore curving section of the maze, and fail to complete the maze successfully. In this case, the following\n",
        "#variable can be used as a manual override for step size\n",
        "CustomStepSize=0\n",
        "#NOTE: Set the value to 0 to use the recommended step size.\n",
        "#NOTE: It is highly recommended to use a smaller zone size, with the appropriate smallest gap value, rather than to use this override\n",
        "#NOTE: Consider that the actual size of steps that will be taken is equal to steppropn*CustomStepSize"
      ],
      "execution_count": 1,
      "outputs": []
    },
    {
      "cell_type": "markdown",
      "metadata": {
        "id": "91l4KBVRo9Rz",
        "colab_type": "text"
      },
      "source": [
        "### Aesthetic Parameters"
      ]
    },
    {
      "cell_type": "code",
      "metadata": {
        "id": "fGjvExJfo_SG",
        "colab_type": "code",
        "colab": {}
      },
      "source": [
        "#Stampsize represents the size of a stamp, as a proportion of the size of the steps being used to traverse the maze\n",
        "#The smaller the value, the greater the gap between stamps\n",
        "stampsize=0.8\n",
        "\n",
        "#Gifs are output showing the exploration process as well as the development of the optimal path\n",
        "#This variable determines the duration of the freezeframe at the end of the gif showing the complete solution\n",
        "endfreezeframes = 10\n",
        "\n",
        "#The search process may take very many steps, which might make it desirable for each frame of the gif \n",
        "#to update with multiple search steps at once. Gifsteps determines how many steps are shown to occur, per frame of the gif\n",
        "gifsteps=50\n",
        "\n",
        "#The frmdrn variable determines the duration of each frame of the gif, in seconds. Smaller values may be desirable for very\n",
        "#large and complex maxes to shorten the length of the gif\n",
        "frmdrn=0.1\n",
        "\n",
        "#The default is that stamps marking exploration steps are square. Depending on the selected stamp size, they may cross over boundaries\n",
        "#(Though the boundary is always visible). Setting this variable to True keeps the colouring in of stamps between the lines,\n",
        "#But this can make the image rendering process take *very* long. It is recommended to use smaller stamps with this variable as False\n",
        "inthelines=False"
      ],
      "execution_count": 2,
      "outputs": []
    },
    {
      "cell_type": "markdown",
      "metadata": {
        "id": "Qhkzln6jxIvT",
        "colab_type": "text"
      },
      "source": [
        "### Utility Parameters"
      ]
    },
    {
      "cell_type": "code",
      "metadata": {
        "id": "lJicTAzRxK2p",
        "colab_type": "code",
        "colab": {}
      },
      "source": [
        "# Set this variable to 'True' to print out the pathfinding and traceback runtime upon completion\n",
        "tRun=True\n",
        "\n",
        "#The following parameter determines the number of steps that will be made between a printout announcing the number of steps made\n",
        "nPrSt=1000\n",
        "\n",
        "#During the traceback process, after a solution has been found, the following parameter determines the number of steps that\n",
        "#will be made between a printout announcing the number of steps made\n",
        "nPrTr=500"
      ],
      "execution_count": 3,
      "outputs": []
    },
    {
      "cell_type": "markdown",
      "metadata": {
        "id": "uksYS14ivnfu",
        "colab_type": "text"
      },
      "source": [
        "## Code Proper\n"
      ]
    },
    {
      "cell_type": "markdown",
      "metadata": {
        "id": "N3Br9hBqvx3U",
        "colab_type": "text"
      },
      "source": [
        "### Setup"
      ]
    },
    {
      "cell_type": "markdown",
      "metadata": {
        "id": "_U1w3jJ7winp",
        "colab_type": "text"
      },
      "source": [
        "#### Import libraries"
      ]
    },
    {
      "cell_type": "code",
      "metadata": {
        "id": "gKHXnZDGvlRm",
        "colab_type": "code",
        "colab": {}
      },
      "source": [
        "import os\n",
        "from matplotlib.image import imsave\n",
        "from matplotlib.image import imread\n",
        "import matplotlib.pyplot as plt\n",
        "import numpy as np\n",
        "import PIL\n",
        "from copy import copy\n",
        "from math import floor\n",
        "from math import ceil\n",
        "import math\n",
        "from time import time\n",
        "import csv\n",
        "from scipy import stats\n",
        "import imageio\n",
        "from collections import Counter"
      ],
      "execution_count": 4,
      "outputs": []
    },
    {
      "cell_type": "markdown",
      "metadata": {
        "id": "A5k8dn_31Bcv",
        "colab_type": "text"
      },
      "source": [
        "#### Define Colours"
      ]
    },
    {
      "cell_type": "code",
      "metadata": {
        "id": "CQObQ_4N1D-f",
        "colab_type": "code",
        "colab": {}
      },
      "source": [
        "# In current state, only black and while colours are supported\n",
        "PathColour = 'white'\n",
        "BoundaryColour = 'black'\n",
        "if PathColour == 'white':\n",
        "    pthclr = [255, 255, 255]\n",
        "    grypth = 255  \n",
        "else:\n",
        "    pthclr = PathColour\n",
        "    grypth = 255  \n",
        "if BoundaryColour == 'black':\n",
        "    bndclr = [0, 0, 0]\n",
        "    grybnd = 0  \n",
        "else:\n",
        "    bndclr = BoundaryColour\n",
        "    grybnd = 0  "
      ],
      "execution_count": 5,
      "outputs": []
    },
    {
      "cell_type": "markdown",
      "metadata": {
        "id": "GwXGan1X1ZjQ",
        "colab_type": "text"
      },
      "source": [
        "#### Prepare Image"
      ]
    },
    {
      "cell_type": "code",
      "metadata": {
        "id": "CUyw9l1G1bZN",
        "colab_type": "code",
        "colab": {}
      },
      "source": [
        "img = np.asarray(PIL.Image.open(filename))\n",
        "tempsaved = False  \n",
        "if len(img[0][0]) != 3:  \n",
        "    rgba_image = PIL.Image.open(filename)\n",
        "    rgba_image.load()\n",
        "    background = PIL.Image.new(\"RGB\", rgba_image.size, (255, 255, 255))\n",
        "    background.paste(rgba_image, mask=rgba_image.split()\n",
        "                     [3])  \n",
        "    img = np.asarray(background)\n",
        "plt.rcParams['figure.figsize'] = [50, 50]\n",
        "origimg = copy(img)"
      ],
      "execution_count": 6,
      "outputs": []
    },
    {
      "cell_type": "markdown",
      "metadata": {
        "id": "7Tn06bhY1plh",
        "colab_type": "text"
      },
      "source": [
        "#### Initialization\n"
      ]
    },
    {
      "cell_type": "markdown",
      "metadata": {
        "id": "uzORAIA3OXnP",
        "colab_type": "text"
      },
      "source": [
        "The initialization process includes:\n",
        "\n",
        "*   Defining custom functions and classes\n",
        "*   Creating variables\n",
        "*   Finding the start and end points in the maze\n",
        "*   Determining zones and relevant attributes\n",
        "\n"
      ]
    },
    {
      "cell_type": "code",
      "metadata": {
        "id": "XKRKx-SA1pKK",
        "colab_type": "code",
        "colab": {
          "base_uri": "https://localhost:8080/",
          "height": 34
        },
        "outputId": "54611f88-8788-4dbc-b5dd-bbe73e56404d"
      },
      "source": [
        "def cutoffdist(stepdist):\n",
        "    if stepdist == smallestgap:\n",
        "        return smallestgap+1\n",
        "    else:\n",
        "        return proxcutoff*stepdist\n",
        "def showWIP():\n",
        "    for st in stamps:\n",
        "        for rw in range(max(0, floor(st.coord[0] - round(zones[st.zoneIndex].stampsize / 2))), min(len(origimg) - 1, floor(st.coord[0] + round(zones[st.zoneIndex].stampsize / 2))), 1):\n",
        "            for cl in range(max(0, floor(st.coord[1] - round(zones[st.zoneIndex].stampsize / 2))), min(len(origimg[1]) - 1, floor(st.coord[1] + round(zones[st.zoneIndex].stampsize / 2))), 1):\n",
        "                if img[rw][cl] != grybnd:\n",
        "                    if st.status == 0:  \n",
        "                        dispimg[rw][cl] = 60\n",
        "                    elif st.status == 1:  \n",
        "                        dispimg[rw][cl] = 125\n",
        "                    elif st.status == 2:  \n",
        "                        dispimg[rw][cl] = 200\n",
        "    imgplot = plt.imshow(dispimg)\n",
        "    plt.show()\n",
        "def clearPath(coords1, coords2, myImg):\n",
        "    y1, x1 = coords1[0], coords1[1]  \n",
        "    y2, x2 = coords2[0], coords2[1]\n",
        "    if myImg[min(len(myImg)-1, max(0, y2))][min(len(myImg[0])-1, max(0, x2))] == grybnd or myImg[min(len(myImg)-1, max(0, y1))][min(len(myImg[0])-1, max(0, x1))] == grybnd:\n",
        "        return False  \n",
        "    if x1 == x2:\n",
        "        dy = y2 - y1\n",
        "        if dy < 0:\n",
        "            ystepper = -1\n",
        "        else:\n",
        "            ystepper = 1\n",
        "        for i in range(0, dy+2*ystepper, ystepper):\n",
        "            if i != dy+ystepper:\n",
        "                if myImg[min(len(myImg)-1, max(0, int(y1+i)))][int(x1)] == grybnd:\n",
        "                    return False\n",
        "        return True\n",
        "    elif y1 == y2:\n",
        "        dx = x2 - x1\n",
        "        if dx < 0:\n",
        "            xstepper = -1\n",
        "        else:\n",
        "            xstepper = 1\n",
        "        for i in range(0, dx+2*xstepper, xstepper):\n",
        "            if i != dx+xstepper:\n",
        "                if myImg[y1][min(len(myImg[0])-1, max(0, int(x1+i)))] == grybnd:\n",
        "                    return False\n",
        "        return True\n",
        "    else:\n",
        "        sqtr1 = True\n",
        "        sqtr2 = True\n",
        "        ditr = True\n",
        "        dy = y2-y1\n",
        "        dx = x2-x1\n",
        "        if dy < 0:\n",
        "            ystepper = -1\n",
        "        else:\n",
        "            ystepper = 1\n",
        "        if dx < 0:\n",
        "            xstepper = -1\n",
        "        else:\n",
        "            xstepper = 1\n",
        "        for xadj in [-1, 0, 1]:\n",
        "            for yadj in [-1, 0, 1]:\n",
        "                st1y, st1x, st2y, st2x = y1+yadj, x1+xadj, y2+yadj, x2+xadj\n",
        "                xdisp = st2x - st1x\n",
        "                ydisp = st2y - st1y\n",
        "                if ydisp < 0:\n",
        "                    stepper = -1\n",
        "                else:\n",
        "                    stepper = 1\n",
        "                xPery = xdisp / ydisp\n",
        "                for obl in range(0, ydisp+stepper, stepper):\n",
        "                    ystep = obl\n",
        "                    for xstep in [floor(ystep*xPery), ceil(ystep*xPery)]:\n",
        "                        if img[min(len(img) - 1, max(0, st1y + ystep))][min(len(img[1]) - 1, max(0, st1x + xstep))] == grybnd:\n",
        "                            ditr = False\n",
        "                            break\n",
        "                    if ditr == False:\n",
        "                        break\n",
        "                if xdisp < 0:\n",
        "                    stepper = -1\n",
        "                else:\n",
        "                    stepper = 1\n",
        "                yPerx = ydisp / xdisp\n",
        "                for obl in range(0, xdisp+stepper, stepper):\n",
        "                    xstep = obl\n",
        "                    for ystep in [floor(xstep*yPerx), ceil(xstep*yPerx)]:\n",
        "                        ystep = round(xstep*yPerx)\n",
        "                        if img[min(len(img) - 1, max(0, st1y + ystep))][min(len(img[1]) - 1, max(0, st1x + xstep))] == grybnd:\n",
        "                            ditr = False\n",
        "                            break\n",
        "                    if ditr == False:\n",
        "                        break\n",
        "                if ditr == False:\n",
        "                    break\n",
        "            if ditr == False:\n",
        "                break\n",
        "        if ditr == True:\n",
        "            return True\n",
        "        for i in range(0, dy+2*ystepper, ystepper):\n",
        "            if i != dy+ystepper:\n",
        "                if myImg[min(len(myImg)-1, max(0, int(y1+i)))][int(x1)] == grybnd:\n",
        "                    sqtr1 = False\n",
        "                    break  \n",
        "        if sqtr1 == True:  \n",
        "            for i in range(0, dx+2*xstepper, xstepper):\n",
        "                if i != dx+xstepper:\n",
        "                    if myImg[min(len(myImg)-1, max(0, int(y1+dy)))][min(len(myImg[0])-1, max(0, int(x1+i)))] == grybnd:\n",
        "                        sqtr1 = False\n",
        "                        break  \n",
        "        for i in range(0, dx+2*xstepper, xstepper):\n",
        "            if i != dx+xstepper:\n",
        "                if myImg[min(len(myImg)-1, max(0, int(y1)))][min(len(myImg[0])-1, max(0, int(x1+i)))] == grybnd:\n",
        "                    sqtr2 = False\n",
        "                    break  \n",
        "        if sqtr2 == True:  \n",
        "            for i in range(0, dy+2*ystepper, ystepper):\n",
        "                if i != dy+ystepper:\n",
        "                    if myImg[min(len(myImg)-1, max(0, int(y1+i)))][min(len(myImg[0])-1, max(0, int(x1+dx)))] == grybnd:\n",
        "                        sqtr2 = False\n",
        "                        break  \n",
        "        if (sqtr1 == True or sqtr2 == True):\n",
        "            return True\n",
        "        else:\n",
        "            return False\n",
        "def findStartEnd(myimg):\n",
        "    myimg = copy(myimg)\n",
        "    stpts = []\n",
        "    endpts = []\n",
        "    for i in range(len(myimg)):\n",
        "        for j in range(len(myimg[i])):\n",
        "            if myimg[i][j][0] > 200 and (myimg[i][j][1] < 100 and myimg[i][j][2] < 100):\n",
        "                stpts.append([i, j])  \n",
        "                myimg[i][j] = pthclr  \n",
        "            elif myimg[i][j][1] > 200 and (myimg[i][j][0] < 160 and myimg[i][j][2] < 160):\n",
        "                endpts.append([i, j])  \n",
        "                myimg[i][j] = pthclr  \n",
        "    if len(stpts) == 0:\n",
        "        print('No start points could be found')\n",
        "        quit()\n",
        "    if len(endpts) == 0:\n",
        "        print('No end points could be found')\n",
        "        quit()\n",
        "    start = [round(np.mean([x[0] for x in stpts])),\n",
        "             round(np.mean([x[1] for x in stpts]))]\n",
        "    end = [round(np.mean([x[0] for x in endpts])),\n",
        "           round(np.mean([x[1] for x in endpts]))]\n",
        "    return (stpts, endpts, start, end, myimg)\n",
        "origimg = copy(img)\n",
        "def most_frequent(myList):\n",
        "    occurence_count = Counter(myList)\n",
        "    return occurence_count.most_common(1)[0][0]\n",
        "class zone:\n",
        "    def __init__(self):\n",
        "        self.stepsize = 1  \n",
        "        self.stampsize = 5  \n",
        "        self.stamps = []  \n",
        "zones = []\n",
        "zpr = ceil(len(img[0]) / zonesize)\n",
        "zpc = ceil(len(img)/zonesize)\n",
        "for i in range(zpr * zpc):\n",
        "    zones.append(zone())\n",
        "if (PathColour == 'white' and BoundaryColour == 'black') or (PathColour == 'black' and BoundaryColour == 'white'):\n",
        "    stpts, endpts, start, end, img = findStartEnd(img)\n",
        "    img = np.mean(img, axis=2)  \n",
        "    di = len(img) * len(img[0])\n",
        "    sizes = [[] for x in zones]\n",
        "    ysize = [0 for x in range(len(img[0])+1)]\n",
        "    for i in range(len(img)):\n",
        "        xsize = 0\n",
        "        for j in range(len(img[i])):\n",
        "            zId = min(floor(j/zonesize), zpr-1)+zpr*floor(i/zonesize)\n",
        "            if img[i][j] > round(255*colourthreshold):\n",
        "                img[i][j] = 255\n",
        "                xsize = xsize + 1\n",
        "                ysize[j] = ysize[j]+1\n",
        "            else:\n",
        "                img[i][j] = 0\n",
        "                if xsize > smallestgap:\n",
        "                    sizes[zId].append(xsize)\n",
        "                    if xsize < di and xsize > 2:\n",
        "                        di = xsize\n",
        "                xsize = 0  \n",
        "                if ysize[j] > smallestgap:  \n",
        "                    sizes[zId].append(ysize[j])\n",
        "                    if ysize[j] < di:\n",
        "                        di = ysize[j]\n",
        "                ysize[j] = 0  \n",
        "            if len(sizes[zId]) == 0:\n",
        "                sizes[zId] = [zonesize]\n",
        "    for z in sizes:\n",
        "        if CustomStepSize < 1:\n",
        "            di = most_frequent(z)\n",
        "        else:\n",
        "            di = CustomStepSize\n",
        "        di = ceil(di)\n",
        "        sz = floor(di * stampsize)\n",
        "        zones[sizes.index(z)].stepsize = di\n",
        "        zones[sizes.index(z)].stampsize = ceil(di*stampsize)\n",
        "    plt.set_cmap('gray')  \n",
        "else:\n",
        "    stpts, endpts, start, end, img = findStartEnd(img)\n",
        "def stepsz():\n",
        "    if prestamp == True:\n",
        "        zId = min(floor(start[1] / zonesize), zpr - 1) +            zpr * floor(start[0] / zonesize)\n",
        "    else:\n",
        "        zId = min(floor(sourcestamp.coord[1]/zonesize),\n",
        "                  zpr-1)+zpr*floor(sourcestamp.coord[0]/zonesize)\n",
        "    return round(steppropn*zones[zId].stepsize)\n",
        "class stamp:  \n",
        "    def __init__(self, coord, stepcount=0, prev=0, direction=0, grandpID=0, ssz=0):\n",
        "        self.ID = id(self)\n",
        "        self.coord = [int(round(x)) for x in coord]  \n",
        "        self.prevstamp = prev  \n",
        "        self.stepcount = stepcount + 1\n",
        "        self.TgtDistNumSteps = floor(\n",
        "            (((self.coord[0] - end[0]) ** 2 + (self.coord[1] - end[1]) ** 2)**(0.5)) / stepsz())\n",
        "        self.score = self.TgtDistNumSteps\n",
        "        self.status = 1\n",
        "        self.dirn = direction\n",
        "        self.gpID = grandpID\n",
        "        self.zoneIndex = min(\n",
        "            floor(self.coord[1]/zonesize), zpr-1)+zpr*floor(self.coord[0]/zonesize)\n",
        "        zones[min(floor(self.coord[1]/zonesize), zpr-1)+zpr *\n",
        "              floor(self.coord[0] / zonesize)].stamps.append(self)\n",
        "        self.steppeddist = ssz\n",
        "stamps = []  \n",
        "avlstamps = []  \n",
        "prestamp = True\n",
        "stamps.append(stamp([round(x, ndigits=None) for x in start]))\n",
        "prestamp = False\n",
        "avlstamps.append(stamps[0])\n",
        "PathFound = False\n",
        "dispimg = copy(img)  \n",
        "itern = 0\n",
        "finalSt = stamps[0]"
      ],
      "execution_count": 7,
      "outputs": [
        {
          "output_type": "display_data",
          "data": {
            "text/plain": [
              "<Figure size 3600x3600 with 0 Axes>"
            ]
          },
          "metadata": {
            "tags": []
          }
        }
      ]
    },
    {
      "cell_type": "markdown",
      "metadata": {
        "id": "shXMpN1h269S",
        "colab_type": "text"
      },
      "source": [
        "### Path Finding \n",
        "\n",
        "This is the main loop in the program, iteratively performing the search."
      ]
    },
    {
      "cell_type": "code",
      "metadata": {
        "id": "xcPvlyUQ29vr",
        "colab_type": "code",
        "colab": {}
      },
      "source": [
        "sttime=time()\n",
        "while PathFound == False:  \n",
        "    itern = itern + 1\n",
        "    if itern % nPrSt == 0:\n",
        "        print('Step Number: '+str(itern)+'. Searching...')\n",
        "    rcntstamps = []  \n",
        "    best = [1000000000, 0]  \n",
        "    if len(avlstamps) == 0:\n",
        "        showWIP()\n",
        "        print('Search unsuccessful.')\n",
        "        quit()\n",
        "    for x in avlstamps:  \n",
        "        if x.score < best[0]:\n",
        "            best = [x.score, stamps[stamps.index(x)]]\n",
        "    sourcestamp = best[1]  \n",
        "    angles = []  \n",
        "    for mystep in [max(2, round(stepsz()/i)) for i in range(1, stepblocks+1)]:\n",
        "        for i in range(mystep+2):\n",
        "            if img[max(0, int(sourcestamp.coord[0]-i))][int(sourcestamp.coord[1])] != grypth:\n",
        "                break  \n",
        "            elif i == mystep+1:\n",
        "                stamps.append(stamp(coord=[max(\n",
        "                    0, sourcestamp.coord[0]-i), sourcestamp.coord[1]], stepcount=sourcestamp.stepcount, prev=id(sourcestamp), direction='Up', grandpID=sourcestamp.prevstamp, ssz=mystep))\n",
        "                if stamps[len(stamps) - 1].TgtDistNumSteps < 1 and clearPath(stamps[len(stamps)-1].coord, [int(round(end[0])), int(round(end[1]))], img) == True:\n",
        "                    PathFound = True\n",
        "                    finalSt = stamps[len(stamps) - 1]\n",
        "                avlstamps.append(stamps[len(stamps) - 1])\n",
        "                rcntstamps.append(stamps[len(stamps) - 1])\n",
        "                angles.append(90)\n",
        "        if 90 in angles:\n",
        "            break  \n",
        "    for mystep in [max(2, round(stepsz()/i)) for i in range(1, stepblocks+1)]:\n",
        "        for i in range(mystep+2):\n",
        "            if img[min(len(img)-1, sourcestamp.coord[0]+i)][sourcestamp.coord[1]] != grypth:\n",
        "                break  \n",
        "            elif i == mystep+1:\n",
        "                stamps.append(stamp(coord=[min(len(img)-1, sourcestamp.coord[0]+i),\n",
        "                                           sourcestamp.coord[1]], stepcount=sourcestamp.stepcount, prev=id(sourcestamp), direction='Down', grandpID=sourcestamp.prevstamp, ssz=mystep))\n",
        "                if stamps[len(stamps) - 1].TgtDistNumSteps < 1 and clearPath(stamps[len(stamps)-1].coord, [int(round(end[0])), int(round(end[1]))], img) == True:\n",
        "                    PathFound = True\n",
        "                    finalSt = stamps[len(stamps) - 1]\n",
        "                avlstamps.append(stamps[len(stamps) - 1])\n",
        "                rcntstamps.append(stamps[len(stamps) - 1])\n",
        "                angles.append(270)\n",
        "        if 270 in angles:\n",
        "            break  \n",
        "    for mystep in [max(2, round(stepsz()/i)) for i in range(1, stepblocks+1)]:\n",
        "        for i in range(mystep+2):\n",
        "            if img[sourcestamp.coord[0]][min(len(img[0])-1, sourcestamp.coord[1]+i)] != grypth:\n",
        "                break  \n",
        "            elif i == mystep+1:\n",
        "                stamps.append(stamp(coord=[sourcestamp.coord[0],\n",
        "                                           min(len(img[0])-1, sourcestamp.coord[1]+i)], stepcount=sourcestamp.stepcount, prev=id(sourcestamp), direction='Right', grandpID=sourcestamp.prevstamp, ssz=mystep))\n",
        "                if stamps[len(stamps) - 1].TgtDistNumSteps < 1 and clearPath(stamps[len(stamps)-1].coord, [int(round(end[0])), int(round(end[1]))], img) == True:\n",
        "                    PathFound = True\n",
        "                    finalSt = stamps[len(stamps) - 1]\n",
        "                avlstamps.append(stamps[len(stamps) - 1])\n",
        "                rcntstamps.append(stamps[len(stamps) - 1])\n",
        "                angles.append(0)\n",
        "                angles.append(360)\n",
        "        if 360 in angles:\n",
        "            break  \n",
        "    for mystep in [max(2, round(stepsz()/i)) for i in range(1, stepblocks+1)]:\n",
        "        for i in range(mystep+2):\n",
        "            if img[sourcestamp.coord[0]][max(0, sourcestamp.coord[1]-i)] != grypth:\n",
        "                break  \n",
        "            elif i == mystep+1:\n",
        "                stamps.append(stamp(coord=[sourcestamp.coord[0],\n",
        "                                           max(0, sourcestamp.coord[1]-i)], stepcount=sourcestamp.stepcount, prev=id(sourcestamp), direction='Left', grandpID=sourcestamp.prevstamp, ssz=mystep))\n",
        "                if stamps[len(stamps) - 1].TgtDistNumSteps < 1 and clearPath(stamps[len(stamps)-1].coord, [int(round(end[0])), int(round(end[1]))], img) == True:\n",
        "                    PathFound = True\n",
        "                    finalSt = stamps[len(stamps) - 1]\n",
        "                avlstamps.append(stamps[len(stamps) - 1])\n",
        "                rcntstamps.append(stamps[len(stamps) - 1])\n",
        "                angles.append(180)\n",
        "        if 180 in angles:\n",
        "            break  \n",
        "    for mystep in [max(2, round(stepsz()/i)) for i in range(1, stepblocks+1)]:\n",
        "        for i in range(0, 361, dg):\n",
        "            if i not in [0, 90, 180, 270, 360] and (i not in angles):\n",
        "                fit = True\n",
        "                for x in angles:\n",
        "                    if abs(x-i) < 54 or abs((i-360)-i) < 54:\n",
        "                        fit = False  \n",
        "                if fit == True:\n",
        "                    xdisp = round(stepsz() * math.cos(i * math.pi / 180))\n",
        "                    if math.sin(i * math.pi / 180) < 0:\n",
        "                        ydisp = ceil(stepsz() * -1*math.sin(i * math.pi / 180))\n",
        "                    else:\n",
        "                        ydisp = floor(\n",
        "                            stepsz() * -1*math.sin(i * math.pi / 180))\n",
        "                    if clearPath(sourcestamp.coord, [sourcestamp.coord[0]+ydisp, sourcestamp.coord[1]+xdisp], img) == True:\n",
        "                        stamps.append(stamp(coord=[min(len(img)-1, max(0, sourcestamp.coord[0]+ydisp)), min(len(img[0])-1, max(\n",
        "                            0, sourcestamp.coord[1]+xdisp))], stepcount=sourcestamp.stepcount, prev=id(sourcestamp), direction='obl '+str(i), grandpID=sourcestamp.prevstamp, ssz=mystep))\n",
        "                        if stamps[len(stamps) - 1].TgtDistNumSteps < 1 and clearPath(stamps[len(stamps)-1].coord, [int(round(end[0])), int(round(end[1]))], img) == True:\n",
        "                            PathFound = True\n",
        "                            finalSt = stamps[len(stamps) - 1]\n",
        "                        avlstamps.append(stamps[len(stamps) - 1])\n",
        "                        rcntstamps.append(stamps[len(stamps) - 1])\n",
        "                        angles.append(i)\n",
        "    nbrhd = stamps.index(sourcestamp)\n",
        "    avlstamps.remove(sourcestamp)\n",
        "    sourcestamp.status = 0\n",
        "    chckstamps = copy(rcntstamps)\n",
        "    if finalSt == stamps[0]:  \n",
        "        for st in chckstamps:\n",
        "            zId = min(floor(st.coord[1]/zonesize),\n",
        "                      zpr-1)+zpr*floor(st.coord[0]/zonesize)\n",
        "            for pr in zones[zId].stamps:\n",
        "                if (pr is not st) and (pr not in chckstamps) and (pr is not finalSt) and (pr is not sourcestamp)and ((st.coord[0] - pr.coord[0]) ** 2 + (st.coord[1] - pr.coord[1]) ** 2)**(0.5) <= cutoffdist(zones[st.zoneIndex].stepsize):\n",
        "                    if clearPath(st.coord, pr.coord, img) == True:\n",
        "                        st.status = 0\n",
        "                        rcntstamps.remove(st)\n",
        "                        avlstamps.remove(st)\n",
        "                        stamps.remove(st)\n",
        "                        zones[zId].stamps.remove(st)\n",
        "                        break\n",
        "print('Solution Found after '+str(itern)+' total exploration steps and '+str(round(time()-sttime,2))+' seconds.')\n"
      ],
      "execution_count": null,
      "outputs": []
    },
    {
      "cell_type": "markdown",
      "metadata": {
        "id": "0wTQEB2Q5BxV",
        "colab_type": "text"
      },
      "source": [
        "### Traceback\n",
        "\n",
        "After a solution is found, the steps taken to reach it are traced back, simultaneously creating the solution gifs"
      ]
    },
    {
      "cell_type": "code",
      "metadata": {
        "id": "9daXK6Iv5JJx",
        "colab_type": "code",
        "colab": {}
      },
      "source": [
        "it = stamps[stamps.index(finalSt)]  \n",
        "tr = 1\n",
        "while it is not stamps[0]:\n",
        "    it.status = 2\n",
        "    tr = tr+1  \n",
        "    for x in stamps:  \n",
        "        if id(x) == it.prevstamp:\n",
        "            st = x  \n",
        "            break  \n",
        "    it = st  \n",
        "    if tr % nPrTr == 0:\n",
        "        print('Tracing Back Solution... ' + str(tr))\n",
        "trail = []\n",
        "allframes = []  \n",
        "pathimg = copy(origimg)  \n",
        "allimg = copy(origimg)\n",
        "for st in stamps:\n",
        "    if st.status == 2:\n",
        "        trail.append(st)  \n",
        "        for rw in range(max(0, floor(st.coord[0] - (zones[st.zoneIndex].stampsize / 2))), min(len(origimg) - 1, floor(st.coord[0] + (zones[st.zoneIndex].stampsize / 2))), 1):\n",
        "            for cl in range(max(0, floor(st.coord[1] - (zones[st.zoneIndex].stampsize / 2))), min(len(origimg[1]) - 1, floor(st.coord[1] + (sz / 2))), 1):\n",
        "                if inthelines==False or (inthelines==True and clearPath(st.coord,[rw,cl],img)==True):\n",
        "                    if img[rw][cl] != grybnd:\n",
        "                        allimg[rw][cl] = np.array([28, 206, 13])\n",
        "        if stamps.index(st) % gifsteps == 0:\n",
        "            allframes.append(copy(allimg))\n",
        "        if stamps.index(st) == len(stamps) - 1:\n",
        "            allframes.extend([allimg]*endfreezeframes)\n",
        "    else:\n",
        "        for rw in range(max(0, floor(st.coord[0] - (zones[st.zoneIndex].stampsize / 2))), min(len(origimg) - 1, floor(st.coord[0] + (zones[st.zoneIndex].stampsize / 2))), 1):\n",
        "            for cl in range(max(0, floor(st.coord[1] - (zones[st.zoneIndex].stampsize / 2))), min(len(origimg[1]) - 1, floor(st.coord[1] + (zones[st.zoneIndex].stampsize / 2))), 1):\n",
        "                if img[rw][cl] != grybnd:\n",
        "                    if inthelines==False or (inthelines==True and clearPath(st.coord,[rw,cl],img)==True):\n",
        "                        if st.status == 0:  \n",
        "                            origimg[rw][cl] = np.array([255, 127, 39])\n",
        "                            if allimg[rw][cl].tolist() != [28, 206, 13]:\n",
        "                                allimg[rw][cl] = np.array([255, 127, 39])\n",
        "                        elif st.status == 1:  \n",
        "                            origimg[rw][cl] = np.array([251, 235, 43])\n",
        "                            if allimg[rw][cl].tolist() != [28, 206, 13]:\n",
        "                                allimg[rw][cl] = np.array([251, 235, 43])\n",
        "        if stamps.index(st) % gifsteps == 0:\n",
        "            allframes.append(copy(allimg))\n",
        "        if stamps.index(st) == len(stamps) - 1:\n",
        "            allframes.extend([allimg]*endfreezeframes)\n",
        "pathframes = []\n",
        "for st in trail:\n",
        "    for rw in range(max(0, floor(st.coord[0] - (zones[st.zoneIndex].stampsize / 2))), min(len(origimg) - 1, floor(st.coord[0] + (zones[st.zoneIndex].stampsize / 2))), 1):\n",
        "        for cl in range(max(0, floor(st.coord[1] - (zones[st.zoneIndex].stampsize / 2))), min(len(origimg[1]) - 1, floor(st.coord[1] + (zones[st.zoneIndex].stampsize / 2))), 1):\n",
        "            if inthelines==False or (inthelines==True and clearPath(st.coord,[rw,cl],img)==True):\n",
        "                if img[rw][cl] != grybnd:\n",
        "                    origimg[rw][cl] = np.array([28, 206, 13])  \n",
        "                    pathimg[rw][cl] = np.array([28, 206, 13])  \n",
        "    if trail.index(st) % gifsteps == 0:\n",
        "        pathframes.append(copy(pathimg))\n",
        "    if trail.index(st) == len(trail) - 1:\n",
        "        pathframes.extend([pathimg]*endfreezeframes)\n",
        "imageio.mimsave('SolutionSearch.gif', allframes,\n",
        "                duration=frmdrn, subrectangles=True)\n",
        "imageio.mimsave('Solution Direct.gif', pathframes,\n",
        "                duration=frmdrn, subrectangles=True)\n",
        "print('End Reached')\n",
        "imgplot = plt.imshow(origimg)\n",
        "plt.show()\n",
        "im = PIL.Image.fromarray(origimg)\n",
        "im.save(\"Solved.jpg\")\n",
        "if tRun == True:\n",
        "    print('Total Run Time: '+str(round(time()-sttime,2))+' seconds')\n"
      ],
      "execution_count": null,
      "outputs": []
    }
  ]
}